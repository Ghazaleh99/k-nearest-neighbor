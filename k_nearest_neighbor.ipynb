{
  "nbformat": 4,
  "nbformat_minor": 0,
  "metadata": {
    "colab": {
      "provenance": [],
      "authorship_tag": "ABX9TyOC3gn6QlsqCDS2p6ukPGIA",
      "include_colab_link": true
    },
    "kernelspec": {
      "name": "python3",
      "display_name": "Python 3"
    },
    "language_info": {
      "name": "python"
    }
  },
  "cells": [
    {
      "cell_type": "markdown",
      "metadata": {
        "id": "view-in-github",
        "colab_type": "text"
      },
      "source": [
        "<a href=\"https://colab.research.google.com/github/Ghazaleh99/k-nearest-neighbor/blob/main/k_nearest_neighbor.ipynb\" target=\"_parent\"><img src=\"https://colab.research.google.com/assets/colab-badge.svg\" alt=\"Open In Colab\"/></a>"
      ]
    },
    {
      "cell_type": "markdown",
      "source": [
        "# Implementing K-Nearest Neighbors from Scratch in Python\n",
        "## Machine Learning course\n",
        "\n",
        "\n",
        "---\n",
        "\n",
        "**Ghazaleh**"
      ],
      "metadata": {
        "id": "7yGgYgDnWNX1"
      }
    },
    {
      "cell_type": "markdown",
      "metadata": {
        "id": "OlwJhMKXYEYd"
      },
      "source": [
        "##Step 1 - Import the libraries"
      ]
    },
    {
      "cell_type": "code",
      "source": [
        "%matplotlib inline\n",
        "import numpy as np\n",
        "import matplotlib.pyplot as plt\n",
        "import pandas as pd\n",
        "from math import sqrt"
      ],
      "metadata": {
        "id": "BzxdNaYN25YY"
      },
      "execution_count": null,
      "outputs": []
    },
    {
      "cell_type": "markdown",
      "metadata": {
        "id": "HJYo9ZpbYMHs"
      },
      "source": [
        "##Step 2 - Setting up the Data"
      ]
    },
    {
      "cell_type": "code",
      "source": [
        "number_of_features = 8 \n",
        "h = ['AGE', 'ON THYROXINE', 'TSH MEASURED', 'TSH', 'T3', 'TT4 MEASURED', 'TT4', 'class']\n",
        "df = pd.read_csv('Thyroid.txt', sep = ',', names = h)"
      ],
      "metadata": {
        "id": "sJFJaojj8wE3"
      },
      "execution_count": null,
      "outputs": []
    },
    {
      "cell_type": "code",
      "source": [
        "df.head()"
      ],
      "metadata": {
        "colab": {
          "base_uri": "https://localhost:8080/",
          "height": 206
        },
        "id": "jZBA2KHu6LNK",
        "outputId": "a4a3bb07-0b6c-4754-926d-5b9120f3a753"
      },
      "execution_count": null,
      "outputs": [
        {
          "output_type": "execute_result",
          "data": {
            "text/plain": [
              "   AGE  ON THYROXINE  TSH MEASURED    TSH      T3  TT4 MEASURED    TT4  class\n",
              "0   60             0             1   26.0  2.0000             1   69.0      1\n",
              "1   67             0             1    0.8  2.3000             1  104.0      0\n",
              "2   18             1             1  478.0  2.0135             1   45.0      2\n",
              "3   36             0             1    8.6  3.7000             1  131.0      1\n",
              "4   28             0             1  139.0  0.9000             1   36.0      2"
            ],
            "text/html": [
              "\n",
              "  <div id=\"df-b692a015-619d-4d69-afef-c5f65f80544c\">\n",
              "    <div class=\"colab-df-container\">\n",
              "      <div>\n",
              "<style scoped>\n",
              "    .dataframe tbody tr th:only-of-type {\n",
              "        vertical-align: middle;\n",
              "    }\n",
              "\n",
              "    .dataframe tbody tr th {\n",
              "        vertical-align: top;\n",
              "    }\n",
              "\n",
              "    .dataframe thead th {\n",
              "        text-align: right;\n",
              "    }\n",
              "</style>\n",
              "<table border=\"1\" class=\"dataframe\">\n",
              "  <thead>\n",
              "    <tr style=\"text-align: right;\">\n",
              "      <th></th>\n",
              "      <th>AGE</th>\n",
              "      <th>ON THYROXINE</th>\n",
              "      <th>TSH MEASURED</th>\n",
              "      <th>TSH</th>\n",
              "      <th>T3</th>\n",
              "      <th>TT4 MEASURED</th>\n",
              "      <th>TT4</th>\n",
              "      <th>class</th>\n",
              "    </tr>\n",
              "  </thead>\n",
              "  <tbody>\n",
              "    <tr>\n",
              "      <th>0</th>\n",
              "      <td>60</td>\n",
              "      <td>0</td>\n",
              "      <td>1</td>\n",
              "      <td>26.0</td>\n",
              "      <td>2.0000</td>\n",
              "      <td>1</td>\n",
              "      <td>69.0</td>\n",
              "      <td>1</td>\n",
              "    </tr>\n",
              "    <tr>\n",
              "      <th>1</th>\n",
              "      <td>67</td>\n",
              "      <td>0</td>\n",
              "      <td>1</td>\n",
              "      <td>0.8</td>\n",
              "      <td>2.3000</td>\n",
              "      <td>1</td>\n",
              "      <td>104.0</td>\n",
              "      <td>0</td>\n",
              "    </tr>\n",
              "    <tr>\n",
              "      <th>2</th>\n",
              "      <td>18</td>\n",
              "      <td>1</td>\n",
              "      <td>1</td>\n",
              "      <td>478.0</td>\n",
              "      <td>2.0135</td>\n",
              "      <td>1</td>\n",
              "      <td>45.0</td>\n",
              "      <td>2</td>\n",
              "    </tr>\n",
              "    <tr>\n",
              "      <th>3</th>\n",
              "      <td>36</td>\n",
              "      <td>0</td>\n",
              "      <td>1</td>\n",
              "      <td>8.6</td>\n",
              "      <td>3.7000</td>\n",
              "      <td>1</td>\n",
              "      <td>131.0</td>\n",
              "      <td>1</td>\n",
              "    </tr>\n",
              "    <tr>\n",
              "      <th>4</th>\n",
              "      <td>28</td>\n",
              "      <td>0</td>\n",
              "      <td>1</td>\n",
              "      <td>139.0</td>\n",
              "      <td>0.9000</td>\n",
              "      <td>1</td>\n",
              "      <td>36.0</td>\n",
              "      <td>2</td>\n",
              "    </tr>\n",
              "  </tbody>\n",
              "</table>\n",
              "</div>\n",
              "      <button class=\"colab-df-convert\" onclick=\"convertToInteractive('df-b692a015-619d-4d69-afef-c5f65f80544c')\"\n",
              "              title=\"Convert this dataframe to an interactive table.\"\n",
              "              style=\"display:none;\">\n",
              "        \n",
              "  <svg xmlns=\"http://www.w3.org/2000/svg\" height=\"24px\"viewBox=\"0 0 24 24\"\n",
              "       width=\"24px\">\n",
              "    <path d=\"M0 0h24v24H0V0z\" fill=\"none\"/>\n",
              "    <path d=\"M18.56 5.44l.94 2.06.94-2.06 2.06-.94-2.06-.94-.94-2.06-.94 2.06-2.06.94zm-11 1L8.5 8.5l.94-2.06 2.06-.94-2.06-.94L8.5 2.5l-.94 2.06-2.06.94zm10 10l.94 2.06.94-2.06 2.06-.94-2.06-.94-.94-2.06-.94 2.06-2.06.94z\"/><path d=\"M17.41 7.96l-1.37-1.37c-.4-.4-.92-.59-1.43-.59-.52 0-1.04.2-1.43.59L10.3 9.45l-7.72 7.72c-.78.78-.78 2.05 0 2.83L4 21.41c.39.39.9.59 1.41.59.51 0 1.02-.2 1.41-.59l7.78-7.78 2.81-2.81c.8-.78.8-2.07 0-2.86zM5.41 20L4 18.59l7.72-7.72 1.47 1.35L5.41 20z\"/>\n",
              "  </svg>\n",
              "      </button>\n",
              "      \n",
              "  <style>\n",
              "    .colab-df-container {\n",
              "      display:flex;\n",
              "      flex-wrap:wrap;\n",
              "      gap: 12px;\n",
              "    }\n",
              "\n",
              "    .colab-df-convert {\n",
              "      background-color: #E8F0FE;\n",
              "      border: none;\n",
              "      border-radius: 50%;\n",
              "      cursor: pointer;\n",
              "      display: none;\n",
              "      fill: #1967D2;\n",
              "      height: 32px;\n",
              "      padding: 0 0 0 0;\n",
              "      width: 32px;\n",
              "    }\n",
              "\n",
              "    .colab-df-convert:hover {\n",
              "      background-color: #E2EBFA;\n",
              "      box-shadow: 0px 1px 2px rgba(60, 64, 67, 0.3), 0px 1px 3px 1px rgba(60, 64, 67, 0.15);\n",
              "      fill: #174EA6;\n",
              "    }\n",
              "\n",
              "    [theme=dark] .colab-df-convert {\n",
              "      background-color: #3B4455;\n",
              "      fill: #D2E3FC;\n",
              "    }\n",
              "\n",
              "    [theme=dark] .colab-df-convert:hover {\n",
              "      background-color: #434B5C;\n",
              "      box-shadow: 0px 1px 3px 1px rgba(0, 0, 0, 0.15);\n",
              "      filter: drop-shadow(0px 1px 2px rgba(0, 0, 0, 0.3));\n",
              "      fill: #FFFFFF;\n",
              "    }\n",
              "  </style>\n",
              "\n",
              "      <script>\n",
              "        const buttonEl =\n",
              "          document.querySelector('#df-b692a015-619d-4d69-afef-c5f65f80544c button.colab-df-convert');\n",
              "        buttonEl.style.display =\n",
              "          google.colab.kernel.accessAllowed ? 'block' : 'none';\n",
              "\n",
              "        async function convertToInteractive(key) {\n",
              "          const element = document.querySelector('#df-b692a015-619d-4d69-afef-c5f65f80544c');\n",
              "          const dataTable =\n",
              "            await google.colab.kernel.invokeFunction('convertToInteractive',\n",
              "                                                     [key], {});\n",
              "          if (!dataTable) return;\n",
              "\n",
              "          const docLinkHtml = 'Like what you see? Visit the ' +\n",
              "            '<a target=\"_blank\" href=https://colab.research.google.com/notebooks/data_table.ipynb>data table notebook</a>'\n",
              "            + ' to learn more about interactive tables.';\n",
              "          element.innerHTML = '';\n",
              "          dataTable['output_type'] = 'display_data';\n",
              "          await google.colab.output.renderOutput(dataTable, element);\n",
              "          const docLink = document.createElement('div');\n",
              "          docLink.innerHTML = docLinkHtml;\n",
              "          element.appendChild(docLink);\n",
              "        }\n",
              "      </script>\n",
              "    </div>\n",
              "  </div>\n",
              "  "
            ]
          },
          "metadata": {},
          "execution_count": 71
        }
      ]
    },
    {
      "cell_type": "markdown",
      "metadata": {
        "id": "yCzSYODlYY38"
      },
      "source": [
        "## Step 3 - Train "
      ]
    },
    {
      "cell_type": "markdown",
      "source": [
        "### Euclidean Distance\n",
        "Calculate the Euclidean distance between two vectors"
      ],
      "metadata": {
        "id": "z5CbAhiQRtf5"
      }
    },
    {
      "cell_type": "code",
      "source": [
        "def euclidean(p1,p2):\n",
        "    dist = np.sqrt(np.sum((p1-p2)**2))\n",
        "    return dist"
      ],
      "metadata": {
        "id": "OzZe5k5-SVhi"
      },
      "execution_count": null,
      "outputs": []
    },
    {
      "cell_type": "code",
      "source": [
        "# euclidean(dataset[0][:-1],dataset[1][:-1])"
      ],
      "metadata": {
        "id": "fw4Izak0ChSP"
      },
      "execution_count": null,
      "outputs": []
    },
    {
      "cell_type": "markdown",
      "source": [
        "### Feature scaling\n",
        "Applying normalization:"
      ],
      "metadata": {
        "id": "4xC2ovlYS1kN"
      }
    },
    {
      "cell_type": "code",
      "source": [
        "def normalization(df):\n",
        "  for column in df.columns[:-1]:\n",
        "    df[column] = (df[column]-min(df[column])) / (max(df[column])-min(df[column]))\n",
        "  return df"
      ],
      "metadata": {
        "id": "1n9M70n3TIaM"
      },
      "execution_count": null,
      "outputs": []
    },
    {
      "cell_type": "code",
      "source": [
        "# print(normalization(df))"
      ],
      "metadata": {
        "id": "3Y8yXQB4DJSp"
      },
      "execution_count": null,
      "outputs": []
    },
    {
      "cell_type": "markdown",
      "source": [
        "Locate the most similar neighbors"
      ],
      "metadata": {
        "id": "H5YasuH4ESt_"
      }
    },
    {
      "cell_type": "code",
      "source": [
        "def get_neighbors(train, test_row, num_neighbors):\n",
        "  distances = []\n",
        "  for train_row in train:\n",
        "    dist = euclidean(test_row, train_row)\n",
        "    distances.append((train_row, dist))\n",
        "  distances.sort(key=lambda tup: tup[1])\n",
        "  # print(distances)\n",
        "  # print(len(distances))\n",
        "  neighbors = []\n",
        "  for i in range(num_neighbors):\n",
        "    neighbors.append(distances[i][0])\n",
        "  return neighbors"
      ],
      "metadata": {
        "id": "QY5steBJEVIV"
      },
      "execution_count": null,
      "outputs": []
    },
    {
      "cell_type": "code",
      "source": [
        "def predict_classification(train, test_row, num_neighbors):\n",
        "\tneighbors = get_neighbors(train, test_row, num_neighbors)\n",
        "\toutput_values = [row[-1] for row in neighbors]\n",
        "\tprediction = max(set(output_values), key=output_values.count)\n",
        "\treturn prediction"
      ],
      "metadata": {
        "id": "YuPkP8KJWSR0"
      },
      "execution_count": null,
      "outputs": []
    },
    {
      "cell_type": "code",
      "source": [
        "# kNN Algorithm\n",
        "def k_nearest_neighbors(train, test, num_neighbors):\n",
        "\tpredictions = []\n",
        "\tfor row in test:\n",
        "\t\toutput = predict_classification(train, row, num_neighbors)\n",
        "\t\tpredictions.append(output)\n",
        "\treturn predictions"
      ],
      "metadata": {
        "id": "GUfhp2ZmV4fL"
      },
      "execution_count": null,
      "outputs": []
    },
    {
      "cell_type": "code",
      "source": [
        "def accuracy_metric(actual, predicted):\n",
        "\tcorrect = 0\n",
        "\tfor i in range(len(actual)):\n",
        "\t\tif actual[i] == predicted[i]:\n",
        "\t\t\tcorrect += 1\n",
        "\treturn correct / float(len(actual)) * 100.0"
      ],
      "metadata": {
        "id": "Sx_DH9FWeTnX"
      },
      "execution_count": null,
      "outputs": []
    },
    {
      "cell_type": "code",
      "source": [
        "def evaluate_algorithm(dataset, n_folds, num_neighbors):\n",
        "\t# folds = cross_validation_split(dataset, n_folds)\n",
        "  folds = np.split(dataset, n_folds)\n",
        "  scores = []\n",
        "  for i in range(n_folds):\n",
        "    print(f'________________________{i} fold__________________________________')\n",
        "    test_set = folds[i]\n",
        "    tmp = np.delete(folds, i, 0)\n",
        "    tmp1 = tmp[0]\n",
        "    for j in range(1, tmp.shape[0]):\n",
        "      tmp1 = np.append(tmp1, tmp[j], axis=0)\n",
        "      train_set = tmp1\n",
        "    predictions = k_nearest_neighbors(train_set, test_set, num_neighbors)\n",
        "    accuracy = accuracy_metric(list(test_set[:, -1]), predictions)\n",
        "    scores.append(accuracy)\n",
        "    print('accuracy: %s' % accuracy)\n",
        "  return scores"
      ],
      "metadata": {
        "id": "kSNionIHXBkn"
      },
      "execution_count": null,
      "outputs": []
    },
    {
      "cell_type": "code",
      "source": [
        "def not_normal(df, n_folds):\n",
        "  dataset = df.to_numpy()\n",
        "  result = []\n",
        "  # not normalized\n",
        "  for i in range(1,11):\n",
        "    print('k =', i)\n",
        "    num_neighbors = i\n",
        "    scores = evaluate_algorithm(dataset, n_folds, num_neighbors)\n",
        "    avg = sum(scores)/float(len(scores))\n",
        "    result.append(avg)\n",
        "    print('Mean Accuracy: %.3f%%' % avg)\n",
        "  return result"
      ],
      "metadata": {
        "id": "8P1Fka3MVwbX"
      },
      "execution_count": null,
      "outputs": []
    },
    {
      "cell_type": "code",
      "source": [
        "def plot_k(accuracy):\n",
        "  k = [1,2,3,4,5,6,7,8,9,10]\n",
        "  xpoints = np.array(k)\n",
        "  ypoints = np.array(accuracy)\n",
        "  plt.plot(xpoints, ypoints)\n",
        "  plt.show()"
      ],
      "metadata": {
        "id": "ungGVvmew56L"
      },
      "execution_count": null,
      "outputs": []
    },
    {
      "cell_type": "code",
      "source": [
        "n_folds = 5\n",
        "accuracy = not_normal(df.copy(), n_folds)\n",
        "plot_k(accuracy)"
      ],
      "metadata": {
        "colab": {
          "base_uri": "https://localhost:8080/",
          "height": 1000
        },
        "id": "l1pK7JKJvis5",
        "outputId": "90b09e29-c68c-47eb-a4fe-4a39b0e288ec"
      },
      "execution_count": null,
      "outputs": [
        {
          "output_type": "stream",
          "name": "stdout",
          "text": [
            "k = 1\n",
            "________________________0 fold__________________________________\n",
            "accuracy: 60.0\n",
            "________________________1 fold__________________________________\n",
            "accuracy: 85.0\n",
            "________________________2 fold__________________________________\n",
            "accuracy: 65.0\n",
            "________________________3 fold__________________________________\n",
            "accuracy: 70.0\n",
            "________________________4 fold__________________________________\n",
            "accuracy: 70.0\n",
            "Mean Accuracy: 70.000%\n",
            "k = 2\n",
            "________________________0 fold__________________________________\n",
            "accuracy: 75.0\n",
            "________________________1 fold__________________________________\n",
            "accuracy: 65.0\n",
            "________________________2 fold__________________________________\n",
            "accuracy: 60.0\n",
            "________________________3 fold__________________________________\n",
            "accuracy: 70.0\n",
            "________________________4 fold__________________________________\n",
            "accuracy: 80.0\n",
            "Mean Accuracy: 70.000%\n",
            "k = 3\n",
            "________________________0 fold__________________________________\n",
            "accuracy: 70.0\n",
            "________________________1 fold__________________________________\n",
            "accuracy: 75.0\n",
            "________________________2 fold__________________________________\n",
            "accuracy: 55.00000000000001\n",
            "________________________3 fold__________________________________\n",
            "accuracy: 75.0\n",
            "________________________4 fold__________________________________\n",
            "accuracy: 85.0\n",
            "Mean Accuracy: 72.000%\n",
            "k = 4\n",
            "________________________0 fold__________________________________\n",
            "accuracy: 65.0\n",
            "________________________1 fold__________________________________\n",
            "accuracy: 70.0\n",
            "________________________2 fold__________________________________\n",
            "accuracy: 60.0\n",
            "________________________3 fold__________________________________\n",
            "accuracy: 70.0\n",
            "________________________4 fold__________________________________\n",
            "accuracy: 90.0\n",
            "Mean Accuracy: 71.000%\n",
            "k = 5\n",
            "________________________0 fold__________________________________\n",
            "accuracy: 55.00000000000001\n",
            "________________________1 fold__________________________________\n",
            "accuracy: 75.0\n",
            "________________________2 fold__________________________________\n",
            "accuracy: 60.0\n",
            "________________________3 fold__________________________________\n",
            "accuracy: 70.0\n",
            "________________________4 fold__________________________________\n",
            "accuracy: 80.0\n",
            "Mean Accuracy: 68.000%\n",
            "k = 6\n",
            "________________________0 fold__________________________________\n",
            "accuracy: 65.0\n",
            "________________________1 fold__________________________________\n",
            "accuracy: 70.0\n",
            "________________________2 fold__________________________________\n",
            "accuracy: 65.0\n",
            "________________________3 fold__________________________________\n",
            "accuracy: 70.0\n",
            "________________________4 fold__________________________________\n",
            "accuracy: 90.0\n",
            "Mean Accuracy: 72.000%\n",
            "k = 7\n",
            "________________________0 fold__________________________________\n",
            "accuracy: 60.0\n",
            "________________________1 fold__________________________________\n",
            "accuracy: 75.0\n",
            "________________________2 fold__________________________________\n",
            "accuracy: 65.0\n",
            "________________________3 fold__________________________________\n",
            "accuracy: 70.0\n",
            "________________________4 fold__________________________________\n",
            "accuracy: 80.0\n",
            "Mean Accuracy: 70.000%\n",
            "k = 8\n",
            "________________________0 fold__________________________________\n",
            "accuracy: 55.00000000000001\n",
            "________________________1 fold__________________________________\n",
            "accuracy: 70.0\n",
            "________________________2 fold__________________________________\n",
            "accuracy: 70.0\n",
            "________________________3 fold__________________________________\n",
            "accuracy: 60.0\n",
            "________________________4 fold__________________________________\n",
            "accuracy: 90.0\n",
            "Mean Accuracy: 69.000%\n",
            "k = 9\n",
            "________________________0 fold__________________________________\n",
            "accuracy: 50.0\n",
            "________________________1 fold__________________________________\n",
            "accuracy: 70.0\n",
            "________________________2 fold__________________________________\n",
            "accuracy: 70.0\n",
            "________________________3 fold__________________________________\n",
            "accuracy: 60.0\n",
            "________________________4 fold__________________________________\n",
            "accuracy: 75.0\n",
            "Mean Accuracy: 65.000%\n",
            "k = 10\n",
            "________________________0 fold__________________________________\n",
            "accuracy: 45.0\n",
            "________________________1 fold__________________________________\n",
            "accuracy: 60.0\n",
            "________________________2 fold__________________________________\n",
            "accuracy: 65.0\n",
            "________________________3 fold__________________________________\n",
            "accuracy: 60.0\n",
            "________________________4 fold__________________________________\n",
            "accuracy: 80.0\n",
            "Mean Accuracy: 62.000%\n"
          ]
        },
        {
          "output_type": "display_data",
          "data": {
            "text/plain": [
              "<Figure size 432x288 with 1 Axes>"
            ],
            "image/png": "[encoded data removed]"
          },
          "metadata": {
            "needs_background": "light"
          }
        }
      ]
    },
    {
      "cell_type": "code",
      "source": [
        "# normalized\n",
        "def normal(df, n_folds):\n",
        "  df_n = normalization(df.copy())\n",
        "  dataset_n = df_n.to_numpy()\n",
        "  n_folds = 5\n",
        "  result_normal = []\n",
        "  # not normalized\n",
        "  for i in range(1,11):\n",
        "    print('k =', i)\n",
        "    num_neighbors = i\n",
        "    scores = evaluate_algorithm(dataset_n, n_folds, num_neighbors)\n",
        "    avg = sum(scores)/float(len(scores))\n",
        "    result_normal.append(avg)\n",
        "    print('Mean Accuracy: %.3f%%' % avg)\n",
        "  return result_normal"
      ],
      "metadata": {
        "id": "GiRDXUMRuOqb"
      },
      "execution_count": null,
      "outputs": []
    },
    {
      "cell_type": "code",
      "source": [
        "accuracyn = normal(df.copy(), n_folds)\n",
        "plot_k(accuracyn)"
      ],
      "metadata": {
        "colab": {
          "base_uri": "https://localhost:8080/",
          "height": 1000
        },
        "id": "Xg66drOT2qE9",
        "outputId": "cb613f45-bedd-4eed-f630-e42738bdf780"
      },
      "execution_count": null,
      "outputs": [
        {
          "output_type": "stream",
          "name": "stdout",
          "text": [
            "k = 1\n",
            "________________________0 fold__________________________________\n",
            "accuracy: 100.0\n",
            "________________________1 fold__________________________________\n",
            "accuracy: 100.0\n",
            "________________________2 fold__________________________________\n",
            "accuracy: 100.0\n",
            "________________________3 fold__________________________________\n",
            "accuracy: 100.0\n",
            "________________________4 fold__________________________________\n",
            "accuracy: 100.0\n",
            "Mean Accuracy: 100.000%\n",
            "k = 2\n",
            "________________________0 fold__________________________________\n",
            "accuracy: 100.0\n",
            "________________________1 fold__________________________________\n",
            "accuracy: 100.0\n",
            "________________________2 fold__________________________________\n",
            "accuracy: 95.0\n",
            "________________________3 fold__________________________________\n",
            "accuracy: 95.0\n",
            "________________________4 fold__________________________________\n",
            "accuracy: 100.0\n",
            "Mean Accuracy: 98.000%\n",
            "k = 3\n",
            "________________________0 fold__________________________________\n",
            "accuracy: 100.0\n",
            "________________________1 fold__________________________________\n",
            "accuracy: 100.0\n",
            "________________________2 fold__________________________________\n",
            "accuracy: 95.0\n",
            "________________________3 fold__________________________________\n",
            "accuracy: 95.0\n",
            "________________________4 fold__________________________________\n",
            "accuracy: 100.0\n",
            "Mean Accuracy: 98.000%\n",
            "k = 4\n",
            "________________________0 fold__________________________________\n",
            "accuracy: 100.0\n",
            "________________________1 fold__________________________________\n",
            "accuracy: 100.0\n",
            "________________________2 fold__________________________________\n",
            "accuracy: 95.0\n",
            "________________________3 fold__________________________________\n",
            "accuracy: 95.0\n",
            "________________________4 fold__________________________________\n",
            "accuracy: 100.0\n",
            "Mean Accuracy: 98.000%\n",
            "k = 5\n",
            "________________________0 fold__________________________________\n",
            "accuracy: 100.0\n",
            "________________________1 fold__________________________________\n",
            "accuracy: 100.0\n",
            "________________________2 fold__________________________________\n",
            "accuracy: 95.0\n",
            "________________________3 fold__________________________________\n",
            "accuracy: 95.0\n",
            "________________________4 fold__________________________________\n",
            "accuracy: 100.0\n",
            "Mean Accuracy: 98.000%\n",
            "k = 6\n",
            "________________________0 fold__________________________________\n",
            "accuracy: 100.0\n",
            "________________________1 fold__________________________________\n",
            "accuracy: 100.0\n",
            "________________________2 fold__________________________________\n",
            "accuracy: 95.0\n",
            "________________________3 fold__________________________________\n",
            "accuracy: 95.0\n",
            "________________________4 fold__________________________________\n",
            "accuracy: 100.0\n",
            "Mean Accuracy: 98.000%\n",
            "k = 7\n",
            "________________________0 fold__________________________________\n",
            "accuracy: 100.0\n",
            "________________________1 fold__________________________________\n",
            "accuracy: 100.0\n",
            "________________________2 fold__________________________________\n",
            "accuracy: 95.0\n",
            "________________________3 fold__________________________________\n",
            "accuracy: 95.0\n",
            "________________________4 fold__________________________________\n",
            "accuracy: 100.0\n",
            "Mean Accuracy: 98.000%\n",
            "k = 8\n",
            "________________________0 fold__________________________________\n",
            "accuracy: 100.0\n",
            "________________________1 fold__________________________________\n",
            "accuracy: 100.0\n",
            "________________________2 fold__________________________________\n",
            "accuracy: 95.0\n",
            "________________________3 fold__________________________________\n",
            "accuracy: 95.0\n",
            "________________________4 fold__________________________________\n",
            "accuracy: 100.0\n",
            "Mean Accuracy: 98.000%\n",
            "k = 9\n",
            "________________________0 fold__________________________________\n",
            "accuracy: 100.0\n",
            "________________________1 fold__________________________________\n",
            "accuracy: 100.0\n",
            "________________________2 fold__________________________________\n",
            "accuracy: 95.0\n",
            "________________________3 fold__________________________________\n",
            "accuracy: 95.0\n",
            "________________________4 fold__________________________________\n",
            "accuracy: 100.0\n",
            "Mean Accuracy: 98.000%\n",
            "k = 10\n",
            "________________________0 fold__________________________________\n",
            "accuracy: 100.0\n",
            "________________________1 fold__________________________________\n",
            "accuracy: 100.0\n",
            "________________________2 fold__________________________________\n",
            "accuracy: 95.0\n",
            "________________________3 fold__________________________________\n",
            "accuracy: 95.0\n",
            "________________________4 fold__________________________________\n",
            "accuracy: 100.0\n",
            "Mean Accuracy: 98.000%\n"
          ]
        },
        {
          "output_type": "display_data",
          "data": {
            "text/plain": [
              "<Figure size 432x288 with 1 Axes>"
            ],
            "image/png": "[encoded data removed]"
          },
          "metadata": {
            "needs_background": "light"
          }
        }
      ]
    }
  ]
}